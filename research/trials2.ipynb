{
 "cells": [
  {
   "cell_type": "code",
   "execution_count": 1,
   "id": "fc1edcfb-f8cc-43bb-b56c-69f26281fcea",
   "metadata": {},
   "outputs": [],
   "source": [
    "import os"
   ]
  },
  {
   "cell_type": "code",
   "execution_count": 2,
   "id": "093495d6-a508-4af3-8bda-550887544991",
   "metadata": {},
   "outputs": [
    {
     "data": {
      "text/plain": [
       "'/Users/ritobrotomohanta/Desktop/Data Science/Projects/Toxic-Chat-Classifier-with-BERT/research'"
      ]
     },
     "execution_count": 2,
     "metadata": {},
     "output_type": "execute_result"
    }
   ],
   "source": [
    "%pwd"
   ]
  },
  {
   "cell_type": "code",
   "execution_count": 3,
   "id": "087395a1-2dd8-48a2-868f-e0b88e47267e",
   "metadata": {},
   "outputs": [
    {
     "data": {
      "text/plain": [
       "'/Users/ritobrotomohanta/Desktop/Data Science/Projects/Toxic-Chat-Classifier-with-BERT'"
      ]
     },
     "execution_count": 3,
     "metadata": {},
     "output_type": "execute_result"
    }
   ],
   "source": [
    "os.chdir(\"../\")\n",
    "%pwd"
   ]
  },
  {
   "cell_type": "code",
   "execution_count": null,
   "id": "9c9490b1-44bd-4eaf-a703-57b74ce079ce",
   "metadata": {},
   "outputs": [],
   "source": []
  },
  {
   "cell_type": "code",
   "execution_count": null,
   "id": "a15a3cea-2b79-42eb-9d0e-445efcc3351f",
   "metadata": {},
   "outputs": [],
   "source": []
  },
  {
   "cell_type": "code",
   "execution_count": 4,
   "id": "040fc638-560c-4741-8682-515ca1ba8622",
   "metadata": {},
   "outputs": [],
   "source": [
    "from dataclasses import dataclass\n",
    "from pathlib import Path\n",
    "from ensure import ensure_annotations\n",
    "\n",
    "@dataclass(frozen=True)\n",
    "class DataIngestionConfig:\n",
    "    root_dir: Path\n",
    "    source_URL: str\n",
    "    local_data_file: Path\n",
    "    unzip_dir: Path"
   ]
  },
  {
   "cell_type": "code",
   "execution_count": 14,
   "id": "aff85034-1871-4ac1-ade6-d6764d06f40a",
   "metadata": {},
   "outputs": [],
   "source": [
    "from mlProject.constants import *\n",
    "from mlProject.utils.common import read_yaml, create_directories"
   ]
  },
  {
   "cell_type": "code",
   "execution_count": 33,
   "id": "5e99e27e-1f78-412e-b508-67ff5cc38fd3",
   "metadata": {},
   "outputs": [],
   "source": [
    "class ConfigurationManager:\n",
    "    def __init__(\n",
    "        self,\n",
    "        config_filepath = CONFIG_FILE_PATH,\n",
    "        params_filepath = PARAMS_FILE_PATH,\n",
    "        schema_filepath = SCHEMA_FILE_PATH):\n",
    "\n",
    "        self.config = read_yaml(config_filepath)\n",
    "        self.schema = read_yaml(schema_filepath)\n",
    "        self.params = read_yaml(params_filepath)\n",
    "        \n",
    "\n",
    "        create_directories([self.config.artifacts_root])\n",
    "\n",
    "    def print_paths(self):\n",
    "        print(\"config_filepath\",self.config)\n",
    "        print(\"params_filepath\",self.params)\n",
    "        print(\"params_schemapath\",self.schema)\n",
    "\n",
    "\n",
    "    def get_data_ingestion_config(self) -> DataIngestionConfig:\n",
    "        config = self.config.data_ingestion\n",
    "\n",
    "        create_directories([config.root_dir])\n",
    "\n",
    "        data_ingestion_config = DataIngestionConfig(\n",
    "            root_dir=config.root_dir,\n",
    "            source_URL=config.source_URL,\n",
    "            local_data_file=config.local_data_files,\n",
    "            unzip_dir=config.unzip_dir\n",
    "        )\n",
    "        return data_ingestion_config\n",
    "    "
   ]
  },
  {
   "cell_type": "code",
   "execution_count": 28,
   "id": "730f9b0e-935c-4338-9990-ef7498ef70ef",
   "metadata": {},
   "outputs": [
    {
     "ename": "TypeError",
     "evalue": "print_paths() missing 1 required positional argument: 'self'",
     "output_type": "error",
     "traceback": [
      "\u001b[0;31m---------------------------------------------------------------------------\u001b[0m",
      "\u001b[0;31mTypeError\u001b[0m                                 Traceback (most recent call last)",
      "Cell \u001b[0;32mIn[28], line 1\u001b[0m\n\u001b[0;32m----> 1\u001b[0m \u001b[43mConfigurationManager\u001b[49m\u001b[38;5;241;43m.\u001b[39;49m\u001b[43mprint_paths\u001b[49m\u001b[43m(\u001b[49m\u001b[43m)\u001b[49m\n",
      "\u001b[0;31mTypeError\u001b[0m: print_paths() missing 1 required positional argument: 'self'"
     ]
    }
   ],
   "source": [
    "ConfigurationManager.print_paths()"
   ]
  },
  {
   "cell_type": "code",
   "execution_count": null,
   "id": "9dc25646-ea1f-4179-9667-0f875dbef69d",
   "metadata": {},
   "outputs": [],
   "source": []
  },
  {
   "cell_type": "code",
   "execution_count": 8,
   "id": "e339d0b6-453e-4b16-b8b0-e20e4b7a3c54",
   "metadata": {},
   "outputs": [],
   "source": [
    "import os\n",
    "import urllib.request as request\n",
    "import zipfile\n",
    "from mlProject import logger\n",
    "from mlProject.utils.common import get_size"
   ]
  },
  {
   "cell_type": "code",
   "execution_count": 41,
   "id": "31fce8a5-078c-4ed3-9e72-4de88c998414",
   "metadata": {},
   "outputs": [],
   "source": [
    "class DataIngestion:\n",
    "    def __init__(self,config:DataIngestionConfig):\n",
    "        self.config = config\n",
    "\n",
    "    def download_files(self):\n",
    "        if not os.path.exists(self.config.local_data_file):\n",
    "            filename, headers = request.urlretrieve(\n",
    "                url = self.config.source_URL,\n",
    "                filename = self.config.local_data_file\n",
    "            )\n",
    "            logger.info(f\"{filename} download! with following info: \\n{headers}\")\n",
    "        else:\n",
    "            logger.info(f\"File already exists of size: {get_size(Path(self.config.local_data_file))}\")\n",
    "\n",
    "    def extract_zip_file(self):\n",
    "        \"\"\"\n",
    "        zip_file_path: str\n",
    "        Extracts the zip file into the data directory\n",
    "        Function returns None\n",
    "        \"\"\"\n",
    "        unzip_path = self.config.unzip_dir\n",
    "        os.makedirs(unzip_path, exist_ok=True)\n",
    "        with zipfile.ZipFile(self.config.local_data_file, 'r') as zip_ref:\n",
    "            zip_ref.extractall(unzip_path)"
   ]
  },
  {
   "cell_type": "code",
   "execution_count": null,
   "id": "6f9cf456-3981-4f2c-81f4-c4407bb59c2b",
   "metadata": {},
   "outputs": [],
   "source": []
  },
  {
   "cell_type": "code",
   "execution_count": 42,
   "id": "2731d80a-7435-4522-bad6-74c9456bfe10",
   "metadata": {},
   "outputs": [
    {
     "name": "stdout",
     "output_type": "stream",
     "text": [
      "[2024-06-17 20:28:18,272: INFO: common : yaml file: config/config.yaml sucessfully loaded]\n",
      "[2024-06-17 20:28:18,276: INFO: common : yaml file: schema.yaml sucessfully loaded]\n",
      "[2024-06-17 20:28:18,279: INFO: common : yaml file: params.yaml sucessfully loaded]\n",
      "[2024-06-17 20:28:18,281: INFO: common : Created directory at: artifacts]\n",
      "[2024-06-17 20:28:18,282: INFO: common : Created directory at: artifacts/data_ingestion]\n",
      "[2024-06-17 20:28:18,284: INFO: 3643541051 : File already exists of size: ~ 11798 KB]\n"
     ]
    }
   ],
   "source": [
    "# pipeline\n",
    "try:\n",
    "    config = ConfigurationManager()\n",
    "    data_ingestion_config = config.get_data_ingestion_config()\n",
    "    data_ingestion = DataIngestion(config=data_ingestion_config)\n",
    "    data_ingestion.download_files()\n",
    "    data_ingestion.extract_zip_file()\n",
    "except Exception as e:\n",
    "    raise e"
   ]
  },
  {
   "cell_type": "code",
   "execution_count": null,
   "id": "3120c1d5-2847-44a2-9b6f-9e5ebd3bb20c",
   "metadata": {},
   "outputs": [],
   "source": []
  },
  {
   "cell_type": "code",
   "execution_count": null,
   "id": "fdba807d-1dd3-42a7-bf9d-4a47c12fd7b4",
   "metadata": {},
   "outputs": [],
   "source": []
  },
  {
   "cell_type": "code",
   "execution_count": null,
   "id": "cb540173-d24d-4ad6-9336-b8a6254b5a39",
   "metadata": {},
   "outputs": [],
   "source": []
  },
  {
   "cell_type": "code",
   "execution_count": null,
   "id": "b74b7914-a166-4d68-9faf-667d0af30e56",
   "metadata": {},
   "outputs": [],
   "source": []
  },
  {
   "cell_type": "code",
   "execution_count": null,
   "id": "70843817-1f7a-4692-b433-e39c96965003",
   "metadata": {},
   "outputs": [],
   "source": []
  },
  {
   "cell_type": "code",
   "execution_count": null,
   "id": "9e59eb38-1957-4307-a672-f57f5274bd36",
   "metadata": {},
   "outputs": [],
   "source": []
  },
  {
   "cell_type": "code",
   "execution_count": null,
   "id": "50e07dbe-d49c-4623-9440-9eb47a73c1fc",
   "metadata": {},
   "outputs": [],
   "source": []
  },
  {
   "cell_type": "code",
   "execution_count": null,
   "id": "69b24b76-1eeb-46cd-a316-e40e6df581d6",
   "metadata": {},
   "outputs": [],
   "source": []
  },
  {
   "cell_type": "code",
   "execution_count": null,
   "id": "36779419-d41b-4b35-af25-12abfdab845a",
   "metadata": {},
   "outputs": [],
   "source": []
  },
  {
   "cell_type": "code",
   "execution_count": null,
   "id": "84c78877-76f6-48a6-acb1-7f54b5268746",
   "metadata": {},
   "outputs": [],
   "source": []
  },
  {
   "cell_type": "code",
   "execution_count": null,
   "id": "2dd42df7-aa18-4ade-a876-29f481c7bc8a",
   "metadata": {},
   "outputs": [],
   "source": []
  },
  {
   "cell_type": "code",
   "execution_count": null,
   "id": "ca2b2c54-d77e-4c96-97a9-f3e9e45d0602",
   "metadata": {},
   "outputs": [],
   "source": []
  },
  {
   "cell_type": "code",
   "execution_count": null,
   "id": "9e0aae9d-7fdd-4992-b831-0bd49884252f",
   "metadata": {},
   "outputs": [],
   "source": []
  },
  {
   "cell_type": "code",
   "execution_count": null,
   "id": "a5241bb1-3a5e-4f8f-ba17-53b71cb634a9",
   "metadata": {},
   "outputs": [],
   "source": []
  },
  {
   "cell_type": "code",
   "execution_count": null,
   "id": "f30cc53e-d41c-4d63-8150-abc500f08e45",
   "metadata": {},
   "outputs": [],
   "source": []
  },
  {
   "cell_type": "code",
   "execution_count": null,
   "id": "8a345453-c0d1-44a6-9485-28f36a19f630",
   "metadata": {},
   "outputs": [],
   "source": []
  },
  {
   "cell_type": "code",
   "execution_count": null,
   "id": "d64c45de-affc-4908-82fd-b4cd384f4dc1",
   "metadata": {},
   "outputs": [],
   "source": []
  },
  {
   "cell_type": "code",
   "execution_count": null,
   "id": "7605e004-9b64-4f29-a31d-c30ecc653ac9",
   "metadata": {},
   "outputs": [],
   "source": []
  },
  {
   "cell_type": "code",
   "execution_count": null,
   "id": "afa60811-5378-4c9b-9541-bf0e428c65ab",
   "metadata": {},
   "outputs": [],
   "source": []
  },
  {
   "cell_type": "code",
   "execution_count": null,
   "id": "7279957e-1675-4e8d-a585-2ee1398d14af",
   "metadata": {},
   "outputs": [],
   "source": []
  },
  {
   "cell_type": "code",
   "execution_count": null,
   "id": "aa8ef5d3-5c61-4d42-a5e4-7620ab349c03",
   "metadata": {},
   "outputs": [],
   "source": []
  },
  {
   "cell_type": "code",
   "execution_count": null,
   "id": "893a70e1-af3d-498d-b492-c158057ef6ab",
   "metadata": {},
   "outputs": [],
   "source": []
  },
  {
   "cell_type": "code",
   "execution_count": null,
   "id": "e69023b2-46bb-4134-b731-84b54a64e25f",
   "metadata": {},
   "outputs": [],
   "source": []
  },
  {
   "cell_type": "code",
   "execution_count": null,
   "id": "7f57aa5d-dc51-42c0-af95-e6eb3ce238c7",
   "metadata": {},
   "outputs": [],
   "source": []
  },
  {
   "cell_type": "code",
   "execution_count": null,
   "id": "9fc058fc-5393-41a4-9552-eec392071b29",
   "metadata": {},
   "outputs": [],
   "source": []
  },
  {
   "cell_type": "code",
   "execution_count": null,
   "id": "37208c8a-91b2-4c22-96f8-054351915d10",
   "metadata": {},
   "outputs": [],
   "source": []
  },
  {
   "cell_type": "code",
   "execution_count": 39,
   "id": "1e7bba80-7663-423c-9975-018f29c6ef30",
   "metadata": {},
   "outputs": [
    {
     "name": "stdout",
     "output_type": "stream",
     "text": [
      "aacb\n"
     ]
    }
   ],
   "source": [
    "import re\n",
    "print(re.search(\"aa?cb?\",\"aacb aaccbd\").group())"
   ]
  },
  {
   "cell_type": "code",
   "execution_count": 40,
   "id": "b356cceb-d40a-4c4a-a66e-45e8342ff42d",
   "metadata": {},
   "outputs": [
    {
     "name": "stdout",
     "output_type": "stream",
     "text": [
      "[4, 10, 18]\n"
     ]
    }
   ],
   "source": [
    "x = [1, 2, 3]\n",
    "y = [4, 5, 6]\n",
    "result = list(map(lambda a, b: a * b, x, y))\n",
    "print(result)"
   ]
  },
  {
   "cell_type": "code",
   "execution_count": 43,
   "id": "f40b86e6-39f0-4c2e-ae41-fbdb9157893f",
   "metadata": {},
   "outputs": [
    {
     "name": "stdout",
     "output_type": "stream",
     "text": [
      "('P', 1) ('y', 2) ('t', 3) ('h', 4) ('o', 5) ('n', 6) "
     ]
    }
   ],
   "source": [
    "for i in zip('Python',{1,2,3,4,5,6}):\n",
    "    print(i,end=(' '))"
   ]
  },
  {
   "cell_type": "code",
   "execution_count": 44,
   "id": "fcd999e9-693a-41cf-a830-6f442246bf76",
   "metadata": {},
   "outputs": [
    {
     "name": "stdout",
     "output_type": "stream",
     "text": [
      "3\n"
     ]
    }
   ],
   "source": [
    "def my_func():\n",
    "    try:\n",
    "        return 1\n",
    "    except:\n",
    "        return 2\n",
    "    finally:\n",
    "        return 3\n",
    "\n",
    "result = my_func()\n",
    "print(result)\n"
   ]
  },
  {
   "cell_type": "code",
   "execution_count": null,
   "id": "689cfe79-bd0b-44aa-a1bb-f74d0c10b163",
   "metadata": {},
   "outputs": [],
   "source": []
  },
  {
   "cell_type": "code",
   "execution_count": 46,
   "id": "90a824f3-7257-4d6b-b7aa-03c54e1846b3",
   "metadata": {},
   "outputs": [
    {
     "data": {
      "text/plain": [
       "int"
      ]
     },
     "execution_count": 46,
     "metadata": {},
     "output_type": "execute_result"
    }
   ],
   "source": [
    "var=(4)\n",
    "type(var)"
   ]
  },
  {
   "cell_type": "code",
   "execution_count": null,
   "id": "c735b190-4733-4b57-822e-d46c01b200ad",
   "metadata": {},
   "outputs": [],
   "source": []
  },
  {
   "cell_type": "code",
   "execution_count": 47,
   "id": "3df06aa6-74a2-4cfc-8bf4-c2e43debe7c8",
   "metadata": {},
   "outputs": [
    {
     "name": "stdout",
     "output_type": "stream",
     "text": [
      "10\n"
     ]
    }
   ],
   "source": [
    "x = 10\n",
    "\n",
    "def foo():\n",
    "    x = 5\n",
    "    x += 10\n",
    "\n",
    "foo()\n",
    "print(x)"
   ]
  },
  {
   "cell_type": "code",
   "execution_count": 49,
   "id": "4be63368-b580-45de-9863-a5578b753ecd",
   "metadata": {},
   "outputs": [
    {
     "name": "stdout",
     "output_type": "stream",
     "text": [
      "4 3 2 1 0 "
     ]
    }
   ],
   "source": [
    "n=5\n",
    "while(n):\n",
    "    n=n-1\n",
    "    print(n, end=' ')"
   ]
  },
  {
   "cell_type": "code",
   "execution_count": 51,
   "id": "eda34502-60da-4b6a-96f3-84608e810e24",
   "metadata": {},
   "outputs": [
    {
     "name": "stdout",
     "output_type": "stream",
     "text": [
      "String 1\n"
     ]
    }
   ],
   "source": [
    "class  SuperClass1:\n",
    "\n",
    "   name = 'String 1'\n",
    "\n",
    " \n",
    "\n",
    "class SuperClass2:\n",
    "\n",
    "   name = 'String 2'\n",
    "\n",
    " \n",
    "\n",
    "class BaseClass(SuperClass1, SuperClass2):\n",
    "\n",
    "   pass\n",
    "\n",
    " \n",
    "\n",
    "print(BaseClass.name)"
   ]
  },
  {
   "cell_type": "code",
   "execution_count": 52,
   "id": "ad397e72-c2d6-4816-ad58-ec510e7d3b79",
   "metadata": {},
   "outputs": [
    {
     "name": "stdout",
     "output_type": "stream",
     "text": [
      "8\n"
     ]
    }
   ],
   "source": [
    "var=[[1,2,3,4],[5,6,7,8],[9,10,11,12]]\n",
    "print(var[1][-1])"
   ]
  },
  {
   "cell_type": "code",
   "execution_count": 54,
   "id": "fd5f1be4-1aed-4da9-88d2-8ba5e97af623",
   "metadata": {},
   "outputs": [
    {
     "ename": "AttributeError",
     "evalue": "'tuple' object has no attribute 'sort'",
     "output_type": "error",
     "traceback": [
      "\u001b[1;31m---------------------------------------------------------------------------\u001b[0m",
      "\u001b[1;31mAttributeError\u001b[0m                            Traceback (most recent call last)",
      "Cell \u001b[1;32mIn[54], line 5\u001b[0m\n\u001b[0;32m      2\u001b[0m seq2\u001b[38;5;241m=\u001b[39m(\u001b[38;5;241m1\u001b[39m,\u001b[38;5;241m2\u001b[39m,\u001b[38;5;241m3\u001b[39m,\u001b[38;5;241m4\u001b[39m,\u001b[38;5;241m5\u001b[39m)\n\u001b[0;32m      4\u001b[0m seq1\u001b[38;5;241m.\u001b[39mindex(\u001b[38;5;241m3\u001b[39m)\n\u001b[1;32m----> 5\u001b[0m \u001b[43mseq2\u001b[49m\u001b[38;5;241;43m.\u001b[39;49m\u001b[43msort\u001b[49m()\n",
      "\u001b[1;31mAttributeError\u001b[0m: 'tuple' object has no attribute 'sort'"
     ]
    }
   ],
   "source": [
    "seq1=[1,2,3,4,5]\n",
    "seq2=(1,2,3,4,5)\n",
    "\n",
    "seq1.index(3)\n",
    "seq2.sort()"
   ]
  },
  {
   "cell_type": "code",
   "execution_count": 58,
   "id": "a6fe53b4-ebaa-446b-9064-7fc5058565a0",
   "metadata": {},
   "outputs": [
    {
     "ename": "SyntaxError",
     "evalue": "non-default argument follows default argument (3662529137.py, line 1)",
     "output_type": "error",
     "traceback": [
      "\u001b[1;36m  Cell \u001b[1;32mIn[58], line 1\u001b[1;36m\u001b[0m\n\u001b[1;33m    def fun(x,y=0,z):\u001b[0m\n\u001b[1;37m                  ^\u001b[0m\n\u001b[1;31mSyntaxError\u001b[0m\u001b[1;31m:\u001b[0m non-default argument follows default argument\n"
     ]
    }
   ],
   "source": [
    "def fun(x,y=0,z):\n",
    "    print(x-y+z)\n",
    "fun(1,1,2)"
   ]
  },
  {
   "cell_type": "code",
   "execution_count": 59,
   "id": "6b71ed28-0044-4160-833c-066f9b16a96e",
   "metadata": {},
   "outputs": [
    {
     "name": "stdout",
     "output_type": "stream",
     "text": [
      "9\n"
     ]
    }
   ],
   "source": [
    "class Cat: \n",
    "\n",
    "   def __init__(self, age):\n",
    "\n",
    "       self.age = age\n",
    "\n",
    " \n",
    "\n",
    "   def set_age(self, num):\n",
    "\n",
    "       self.age = num\n",
    "\n",
    " \n",
    "\n",
    "   def get_age(self):\n",
    "\n",
    "       return self.age\n",
    "\n",
    " \n",
    "\n",
    "cat1 = Cat(2)\n",
    "\n",
    "cat2 = Cat(4)\n",
    "\n",
    "cat1.set_age(cat2.get_age())\n",
    "\n",
    "cat2.set_age(5)\n",
    "\n",
    "cat3 = Cat(cat1.get_age() + cat2.get_age())\n",
    "\n",
    "print(cat3.get_age())"
   ]
  },
  {
   "cell_type": "code",
   "execution_count": 60,
   "id": "25a31274-ce10-4991-9605-7dd963927d0a",
   "metadata": {},
   "outputs": [
    {
     "ename": "AttributeError",
     "evalue": "'int' object has no attribute 'isdigit'",
     "output_type": "error",
     "traceback": [
      "\u001b[1;31m---------------------------------------------------------------------------\u001b[0m",
      "\u001b[1;31mAttributeError\u001b[0m                            Traceback (most recent call last)",
      "Cell \u001b[1;32mIn[60], line 3\u001b[0m\n\u001b[0;32m      1\u001b[0m a\u001b[38;5;241m=\u001b[39m\u001b[38;5;241m1234\u001b[39m\n\u001b[1;32m----> 3\u001b[0m \u001b[43ma\u001b[49m\u001b[38;5;241;43m.\u001b[39;49m\u001b[43misdigit\u001b[49m()\n",
      "\u001b[1;31mAttributeError\u001b[0m: 'int' object has no attribute 'isdigit'"
     ]
    }
   ],
   "source": [
    "a=1234\n",
    "\n",
    "a.isdigit()"
   ]
  },
  {
   "cell_type": "code",
   "execution_count": 63,
   "id": "d0acdd16-3a2d-4ed8-8732-932f5bc26126",
   "metadata": {},
   "outputs": [
    {
     "data": {
      "text/plain": [
       "dict_keys([1, 2, 3, 4, 5])"
      ]
     },
     "execution_count": 63,
     "metadata": {},
     "output_type": "execute_result"
    }
   ],
   "source": [
    "dic={1:'a',2:'e',3:'i',4:'o',5:'u'}\n",
    "type(dic.keys())\n",
    "dic.keys()"
   ]
  },
  {
   "cell_type": "code",
   "execution_count": 66,
   "id": "043e08b5-b2bb-4c71-89a4-b6d7e08b103e",
   "metadata": {},
   "outputs": [
    {
     "name": "stdout",
     "output_type": "stream",
     "text": [
      "True False\n"
     ]
    }
   ],
   "source": [
    "str1=str(1234)\n",
    "str2='1234'\n",
    "print(str1==str2,end=' ')\n",
    "print(str1 is str2)"
   ]
  },
  {
   "cell_type": "code",
   "execution_count": 69,
   "id": "5bcf627c-3f89-40e0-98be-714820ba6f63",
   "metadata": {},
   "outputs": [
    {
     "data": {
      "text/plain": [
       "'e '"
      ]
     },
     "execution_count": 69,
     "metadata": {},
     "output_type": "execute_result"
    }
   ],
   "source": [
    "re.search(r'\\w\\s','Choose the option').group()\n"
   ]
  },
  {
   "cell_type": "code",
   "execution_count": 70,
   "id": "547f0508-19e0-48a7-afcf-c3999d48023a",
   "metadata": {},
   "outputs": [
    {
     "name": "stdout",
     "output_type": "stream",
     "text": [
      "16\n"
     ]
    }
   ],
   "source": [
    "class Square:\n",
    "\n",
    " \n",
    "\n",
    "   def __init__(self, side):\n",
    "\n",
    "       self.side = side\n",
    "\n",
    "       self.area = side*side\n",
    "\n",
    " \n",
    "\n",
    "s1 = Square(Square(Square(2).side).area)\n",
    "\n",
    "print(s1.area)\n"
   ]
  },
  {
   "cell_type": "code",
   "execution_count": 74,
   "id": "fa70ddb6-61e3-4722-9e0e-0ca8e8ce4bb4",
   "metadata": {},
   "outputs": [
    {
     "data": {
      "text/plain": [
       "4"
      ]
     },
     "execution_count": 74,
     "metadata": {},
     "output_type": "execute_result"
    }
   ],
   "source": [
    "Square(Square(2).side).area"
   ]
  },
  {
   "cell_type": "code",
   "execution_count": 4,
   "id": "8098d89a-2a6a-45bf-9356-73b9582ef9e1",
   "metadata": {},
   "outputs": [],
   "source": [
    "def fun(a):\n",
    "\n",
    "    if(a==0):\n",
    "\n",
    "        return 0\n",
    "\n",
    "    return a*fun(a-1)\n"
   ]
  },
  {
   "cell_type": "code",
   "execution_count": null,
   "id": "84299620-c9d0-4b57-a35a-adfa8ecaa382",
   "metadata": {},
   "outputs": [],
   "source": []
  },
  {
   "cell_type": "code",
   "execution_count": 1,
   "id": "7da7b638-0dee-4a6a-bd73-f6be9ef7c987",
   "metadata": {},
   "outputs": [
    {
     "ename": "SyntaxError",
     "evalue": "invalid character '‘' (U+2018) (1128283762.py, line 3)",
     "output_type": "error",
     "traceback": [
      "\u001b[1;36m  Cell \u001b[1;32mIn[1], line 3\u001b[1;36m\u001b[0m\n\u001b[1;33m    print(‘A car’)\u001b[0m\n\u001b[1;37m          ^\u001b[0m\n\u001b[1;31mSyntaxError\u001b[0m\u001b[1;31m:\u001b[0m invalid character '‘' (U+2018)\n"
     ]
    }
   ],
   "source": [
    "def car():\n",
    "\n",
    "   print('A car')\n",
    "\n",
    " \n",
    "\n",
    "File: main.py\n",
    "\n",
    "Code:\n",
    "\n",
    "from Cars import car\n",
    "\n",
    "def car():\n",
    "\n",
    "   print(\"Not a car\")\n",
    "\n",
    "car()"
   ]
  },
  {
   "cell_type": "code",
   "execution_count": 4,
   "id": "f3fd33e8-7576-45f5-8294-66292a3cee48",
   "metadata": {},
   "outputs": [
    {
     "data": {
      "text/plain": [
       "3"
      ]
     },
     "execution_count": 4,
     "metadata": {},
     "output_type": "execute_result"
    }
   ],
   "source": [
    "def my_func():\n",
    "    try:\n",
    "        return 1\n",
    "    except:\n",
    "        return 2\n",
    "    finally:\n",
    "        return 3\n",
    "\n",
    "my_func()"
   ]
  },
  {
   "cell_type": "code",
   "execution_count": null,
   "id": "b38e014e-7e27-4749-8efa-508ac4f73834",
   "metadata": {},
   "outputs": [],
   "source": []
  },
  {
   "cell_type": "code",
   "execution_count": null,
   "id": "ecfb1f54-0bf3-4270-a7f3-a2d866789636",
   "metadata": {},
   "outputs": [],
   "source": []
  },
  {
   "cell_type": "code",
   "execution_count": null,
   "id": "214caafc-0282-465e-911a-8658873c48c9",
   "metadata": {},
   "outputs": [],
   "source": []
  },
  {
   "cell_type": "code",
   "execution_count": null,
   "id": "e14a7458-a67c-4eb5-983f-863166c8eceb",
   "metadata": {},
   "outputs": [],
   "source": []
  },
  {
   "cell_type": "code",
   "execution_count": null,
   "id": "26dfce97-0a80-4532-bf20-088f99b901a6",
   "metadata": {},
   "outputs": [],
   "source": []
  }
 ],
 "metadata": {
  "kernelspec": {
   "display_name": "Python 3 (ipykernel)",
   "language": "python",
   "name": "python3"
  },
  "language_info": {
   "codemirror_mode": {
    "name": "ipython",
    "version": 3
   },
   "file_extension": ".py",
   "mimetype": "text/x-python",
   "name": "python",
   "nbconvert_exporter": "python",
   "pygments_lexer": "ipython3",
   "version": "3.9.19"
  }
 },
 "nbformat": 4,
 "nbformat_minor": 5
}
